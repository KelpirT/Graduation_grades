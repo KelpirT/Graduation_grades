{
 "cells": [
  {
   "cell_type": "markdown",
   "metadata": {},
   "source": [
    "## Import libraries"
   ]
  },
  {
   "cell_type": "code",
   "execution_count": 1,
   "metadata": {},
   "outputs": [],
   "source": [
    "import requests\n",
    "import json\n",
    "import time\n",
    "import csv"
   ]
  },
  {
   "cell_type": "markdown",
   "metadata": {},
   "source": [
    "##  Crawl data from website\n",
    "After analyzing the website, finding the website's source API for high school exam scores and then retrieving the data"
   ]
  },
  {
   "cell_type": "code",
   "execution_count": null,
   "metadata": {},
   "outputs": [],
   "source": [
    "# Generate registration numbers\n",
    "# The number like 'XX0YYYYY'\n",
    "# With XX is area code and 0YYYYY is registration numbers\n",
    "# Use 0YYYYY because i saw the number of candidates in a province is only about less than 10,000\n",
    "def generate_registration_numbers():\n",
    "    for i in range(1, 65):\n",
    "        for j in range(0, 10000):\n",
    "            registration_number = f'{i:02}0{j:05}'\n",
    "            yield registration_number\n",
    "\n",
    "# fetch_data is called by the server to fetch data from the server and return results\n",
    "def fetch_data(code, year=2024):\n",
    "    url = f'https://hoctap.coccoc.com/composer/proxyapi2/graduation_grades/score_search?code={code}&nam={year}'\n",
    "    response = requests.get(url)\n",
    "    if response.status_code == 200:\n",
    "        return response.json()\n",
    "    else:\n",
    "        return None\n",
    "\n",
    "\n",
    "results = []\n",
    "count = 0\n",
    "\n",
    "for code in generate_registration_numbers():\n",
    "    data = fetch_data(code)\n",
    "    if data:\n",
    "        results.append(data)\n",
    "        print(f'Fetched data for code {code}: {data}')\n",
    "    count += 1\n",
    "    # Pause for a moment to avoid sending too many requests in a short period of time\n",
    "    if count % 100 == 0:  # Alert every 100\n",
    "        print(f'{count} requests sent.')\n",
    "    time.sleep(0.1) \n",
    "    # Save result to file JSON\n",
    "with open('graduation_grades_data.json', 'w') as f:\n",
    "    json.dump(results, f)\n",
    "\n",
    "print(\"Finished fetching data.\")"
   ]
  },
  {
   "cell_type": "markdown",
   "metadata": {},
   "source": [
    "## Convert JSON to CSV format"
   ]
  },
  {
   "cell_type": "code",
   "execution_count": null,
   "metadata": {},
   "outputs": [],
   "source": [
    "# Read JSON data from file\n",
    "with open(\"graduation_grades_data.json\", \"r\", encoding=\"utf-8\") as file:\n",
    "    json_data = json.load(file)\n",
    "\n",
    "# Extracting the required data\n",
    "rows = []\n",
    "for item in json_data:\n",
    "    for student in item[\"proxyapi2\"]:\n",
    "        rows.append(student)\n",
    "\n",
    "# Dynamically get field names from the first row of data\n",
    "if rows:\n",
    "    fieldnames = rows[0].keys()\n",
    "else:\n",
    "    fieldnames = []\n",
    "\n",
    "# Write to CSV\n",
    "with open(\"students_scores.csv\", mode=\"w\", newline=\"\", encoding=\"utf-8\") as file:\n",
    "    writer = csv.DictWriter(file, fieldnames=fieldnames)\n",
    "    writer.writeheader()\n",
    "    for row in rows:\n",
    "        writer.writerow(row)\n",
    "\n",
    "print(\"Data has been written to students_scores.csv\")"
   ]
  },
  {
   "cell_type": "markdown",
   "metadata": {},
   "source": [
    "## Exchange the structure to get the necessary parts"
   ]
  },
  {
   "cell_type": "code",
   "execution_count": 2,
   "metadata": {},
   "outputs": [
    {
     "name": "stdout",
     "output_type": "stream",
     "text": [
      "Data has been written to formatted_students_scores.csv\n"
     ]
    }
   ],
   "source": [
    "fieldnames = [\n",
    "    \"CityName\", \"Code\", \"DiaLi\", \"GDCD\", \"HoaHoc\", \"LichSu\", \n",
    "    \"NgoaiNgu\", \"NguVan\", \"SinhHoc\", \"Toan\", \"VatLi\"\n",
    "]\n",
    "\n",
    "# Read data from the current CSV file\n",
    "with open(\"students_scores.csv\", \"r\", encoding=\"utf-8\") as infile:\n",
    "    reader = csv.DictReader(infile)\n",
    "    \n",
    "    # Extract and format data\n",
    "    formatted_rows = []\n",
    "    for row in reader:\n",
    "        formatted_row = {\n",
    "            \"CityName\": row.get(\"CityName\", \"\"),\n",
    "            \"Code\": row.get(\"Code\", \"\"),\n",
    "            \"DiaLi\": row.get(\"DiaLi\", \"\"),\n",
    "            \"GDCD\": row.get(\"GDCD\", \"\"),\n",
    "            \"HoaHoc\": row.get(\"HoaHoc\", \"\"),\n",
    "            \"LichSu\": row.get(\"LichSu\", \"\"),\n",
    "            \"NgoaiNgu\": row.get(\"NgoaiNgu\", \"\"),\n",
    "            \"NguVan\": row.get(\"NguVan\", \"\"),\n",
    "            \"SinhHoc\": row.get(\"SinhHoc\", \"\"),\n",
    "            \"Toan\": row.get(\"Toan\", \"\"),\n",
    "            \"VatLi\": row.get(\"VatLi\", \"\")\n",
    "        }\n",
    "        formatted_rows.append(formatted_row)\n",
    "\n",
    "# Write data to CSV file\n",
    "with open(\"formatted_students_scores.csv\", mode=\"w\", newline=\"\", encoding=\"utf-8\") as outfile:\n",
    "    writer = csv.DictWriter(outfile, fieldnames=fieldnames)\n",
    "    writer.writeheader()\n",
    "    for row in formatted_rows:\n",
    "        writer.writerow(row)\n",
    "\n",
    "print(\"Data has been written to formatted_students_scores.csv\")\n"
   ]
  }
 ],
 "metadata": {
  "kernelspec": {
   "display_name": "base",
   "language": "python",
   "name": "python3"
  },
  "language_info": {
   "codemirror_mode": {
    "name": "ipython",
    "version": 3
   },
   "file_extension": ".py",
   "mimetype": "text/x-python",
   "name": "python",
   "nbconvert_exporter": "python",
   "pygments_lexer": "ipython3",
   "version": "3.12.4"
  }
 },
 "nbformat": 4,
 "nbformat_minor": 2
}
